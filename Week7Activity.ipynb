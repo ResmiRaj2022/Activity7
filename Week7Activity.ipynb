{
 "cells": [
  {
   "cell_type": "markdown",
   "id": "79e9bf7c",
   "metadata": {},
   "source": [
    "# Q&A Activity – Week 07"
   ]
  },
  {
   "cell_type": "markdown",
   "id": "42035559",
   "metadata": {},
   "source": [
    "# Loading the libraries"
   ]
  },
  {
   "cell_type": "code",
   "execution_count": 3,
   "id": "a675e85f",
   "metadata": {},
   "outputs": [],
   "source": [
    "import numpy as np\n",
    "import pandas as pd\n",
    "import matplotlib.pyplot as plt\n",
    "import seaborn as sns\n",
    "import warnings\n",
    "import scipy.stats as stats\n",
    "from scipy.stats import ttest_ind\n"
   ]
  },
  {
   "cell_type": "markdown",
   "id": "78db51a1",
   "metadata": {},
   "source": [
    "# Loading the DataSet"
   ]
  },
  {
   "cell_type": "code",
   "execution_count": 4,
   "id": "e039eee2",
   "metadata": {},
   "outputs": [
    {
     "name": "stdout",
     "output_type": "stream",
     "text": [
      "    Gender Test preparation  Total Marks\n",
      "0     male             none           14\n",
      "1   female             none           28\n",
      "2   female             none           18\n",
      "3   female             none           48\n",
      "4   female             none           21\n",
      "5   female        completed           40\n",
      "6     male             none           30\n",
      "7   female             none           12\n",
      "8     male             none           18\n",
      "9     male             none           24\n",
      "10    male        completed           44\n",
      "11    male             none           23\n",
      "12    male        completed           43\n",
      "13    male             none           28\n",
      "14  female             none           41\n",
      "15  female             none           13\n",
      "16  female        completed           48\n",
      "17  female             none           45\n",
      "18    male             none           47\n",
      "19    male             none           36\n",
      "20    male             none           14\n",
      "21    male        completed           44\n",
      "22  female             none           41\n",
      "23  female             none           27\n",
      "24  female             none           27\n",
      "25  female             none           38\n",
      "26  female        completed           50\n",
      "27  female        completed           43\n"
     ]
    }
   ],
   "source": [
    "df = pd.read_csv (r'C:/Users/user/Desktop/Week7Activity/dataset w7.csv')\n",
    "print(df)"
   ]
  },
  {
   "cell_type": "markdown",
   "id": "2cbf9849",
   "metadata": {},
   "source": [
    "Basic Info and Null Values in the data set"
   ]
  },
  {
   "cell_type": "code",
   "execution_count": 6,
   "id": "7bcf61cb",
   "metadata": {},
   "outputs": [
    {
     "name": "stdout",
     "output_type": "stream",
     "text": [
      "<class 'pandas.core.frame.DataFrame'>\n",
      "RangeIndex: 28 entries, 0 to 27\n",
      "Data columns (total 3 columns):\n",
      " #   Column            Non-Null Count  Dtype \n",
      "---  ------            --------------  ----- \n",
      " 0   Gender            28 non-null     object\n",
      " 1   Test preparation  28 non-null     object\n",
      " 2   Total Marks       28 non-null     int64 \n",
      "dtypes: int64(1), object(2)\n",
      "memory usage: 800.0+ bytes\n"
     ]
    }
   ],
   "source": [
    "df.info()"
   ]
  },
  {
   "cell_type": "code",
   "execution_count": 7,
   "id": "eb5a6bd3",
   "metadata": {},
   "outputs": [
    {
     "data": {
      "text/plain": [
       "Gender              0\n",
       "Test preparation    0\n",
       "Total Marks         0\n",
       "dtype: int64"
      ]
     },
     "execution_count": 7,
     "metadata": {},
     "output_type": "execute_result"
    }
   ],
   "source": [
    "df.isnull().sum()"
   ]
  },
  {
   "cell_type": "markdown",
   "id": "b94d2dfc",
   "metadata": {},
   "source": [
    "No Null values in our dataset"
   ]
  },
  {
   "cell_type": "markdown",
   "id": "68069a7f",
   "metadata": {},
   "source": [
    "# 1. Carrying out descriptive analytics on the dataset"
   ]
  },
  {
   "cell_type": "code",
   "execution_count": 8,
   "id": "cd16c90d",
   "metadata": {},
   "outputs": [
    {
     "data": {
      "text/html": [
       "<div>\n",
       "<style scoped>\n",
       "    .dataframe tbody tr th:only-of-type {\n",
       "        vertical-align: middle;\n",
       "    }\n",
       "\n",
       "    .dataframe tbody tr th {\n",
       "        vertical-align: top;\n",
       "    }\n",
       "\n",
       "    .dataframe thead th {\n",
       "        text-align: right;\n",
       "    }\n",
       "</style>\n",
       "<table border=\"1\" class=\"dataframe\">\n",
       "  <thead>\n",
       "    <tr style=\"text-align: right;\">\n",
       "      <th></th>\n",
       "      <th>Total Marks</th>\n",
       "    </tr>\n",
       "  </thead>\n",
       "  <tbody>\n",
       "    <tr>\n",
       "      <th>count</th>\n",
       "      <td>28.000000</td>\n",
       "    </tr>\n",
       "    <tr>\n",
       "      <th>mean</th>\n",
       "      <td>32.321429</td>\n",
       "    </tr>\n",
       "    <tr>\n",
       "      <th>std</th>\n",
       "      <td>12.454520</td>\n",
       "    </tr>\n",
       "    <tr>\n",
       "      <th>min</th>\n",
       "      <td>12.000000</td>\n",
       "    </tr>\n",
       "    <tr>\n",
       "      <th>25%</th>\n",
       "      <td>22.500000</td>\n",
       "    </tr>\n",
       "    <tr>\n",
       "      <th>50%</th>\n",
       "      <td>33.000000</td>\n",
       "    </tr>\n",
       "    <tr>\n",
       "      <th>75%</th>\n",
       "      <td>43.250000</td>\n",
       "    </tr>\n",
       "    <tr>\n",
       "      <th>max</th>\n",
       "      <td>50.000000</td>\n",
       "    </tr>\n",
       "  </tbody>\n",
       "</table>\n",
       "</div>"
      ],
      "text/plain": [
       "       Total Marks\n",
       "count    28.000000\n",
       "mean     32.321429\n",
       "std      12.454520\n",
       "min      12.000000\n",
       "25%      22.500000\n",
       "50%      33.000000\n",
       "75%      43.250000\n",
       "max      50.000000"
      ]
     },
     "execution_count": 8,
     "metadata": {},
     "output_type": "execute_result"
    }
   ],
   "source": [
    "df.describe()"
   ]
  },
  {
   "cell_type": "code",
   "execution_count": 7,
   "id": "4f240476",
   "metadata": {
    "scrolled": true
   },
   "outputs": [
    {
     "data": {
      "text/plain": [
       "<AxesSubplot:xlabel='Gender', ylabel='count'>"
      ]
     },
     "execution_count": 7,
     "metadata": {},
     "output_type": "execute_result"
    },
    {
     "data": {
      "image/png": "[encoded data removed]",
      "text/plain": [
       "<Figure size 432x288 with 1 Axes>"
      ]
     },
     "metadata": {
      "needs_background": "light"
     },
     "output_type": "display_data"
    }
   ],
   "source": [
    "\n",
    "df = pd.read_csv (r'C:/Users/user/Desktop/Week7Activity/dataset w7.csv')\n",
    "\n",
    "sns.countplot(data = df, x='Gender')"
   ]
  },
  {
   "cell_type": "markdown",
   "id": "238000b8",
   "metadata": {},
   "source": [
    "\n",
    "From the Figure we can analyse that  female count is  higher than male count. But the difference is comparitively small."
   ]
  },
  {
   "cell_type": "code",
   "execution_count": 8,
   "id": "4c51c4dc",
   "metadata": {},
   "outputs": [
    {
     "data": {
      "text/plain": [
       "<AxesSubplot:xlabel='Test preparation', ylabel='count'>"
      ]
     },
     "execution_count": 8,
     "metadata": {},
     "output_type": "execute_result"
    },
    {
     "data": {
      "image/png": "[encoded data removed]",
      "text/plain": [
       "<Figure size 432x288 with 1 Axes>"
      ]
     },
     "metadata": {
      "needs_background": "light"
     },
     "output_type": "display_data"
    }
   ],
   "source": [
    "df = pd.read_csv (r'C:/Users/user/Desktop/Week7Activity/dataset w7.csv')\n",
    "sns.countplot(data = df, x ='Test preparation')"
   ]
  },
  {
   "cell_type": "markdown",
   "id": "eab77ee2",
   "metadata": {},
   "source": [
    "In this Figure we can analyse that , there are only few students whose test preparation status is completed."
   ]
  },
  {
   "cell_type": "markdown",
   "id": "45d8a03c",
   "metadata": {},
   "source": [
    "# 2. Check whether female and male students scored the same marks."
   ]
  },
  {
   "cell_type": "code",
   "execution_count": 9,
   "id": "c76973f8",
   "metadata": {},
   "outputs": [],
   "source": [
    "df_males = df[df[\"Gender\"] == \"male\"][[\"Total Marks\"]]\n",
    "df_females = df[df[\"Gender\"] == \"female\"][[\"Total Marks\"]]"
   ]
  },
  {
   "cell_type": "markdown",
   "id": "bee8eadc",
   "metadata": {},
   "source": [
    "Defining the Null & Alternate Hypothesis for this study\n",
    "\n",
    "Null Hypothesis, H0: Same Mark is scored by the Male and Female students \n",
    "\n",
    "Alternate Hypothesis, Ha: The marks scored by Males & Females are not equal."
   ]
  },
  {
   "cell_type": "code",
   "execution_count": 10,
   "id": "fd3eb4a7",
   "metadata": {},
   "outputs": [
    {
     "name": "stdout",
     "output_type": "stream",
     "text": [
      "The calulated T score & p-value are : \n",
      "  \n",
      "t-score = 0.694 , \n",
      "p-value = 0.494 \n",
      "\n",
      "Failing to Reject the H0\n"
     ]
    }
   ],
   "source": [
    "t_score, p_value = ttest_ind(df_females,df_males)\n",
    "print(\"The calulated T score & p-value are : \\n  \\nt-score = %0.3f , \\np-value = %0.3f \\n\" % (t_score, p_value))\n",
    "\n",
    "alpha  = 0.05\n",
    "\n",
    "if p_value > alpha:\n",
    "    print(\"Failing to Reject the H0\")\n",
    "else:\n",
    "    print(\" Rejecting the H0\")"
   ]
  },
  {
   "cell_type": "markdown",
   "id": "25ea077d",
   "metadata": {},
   "source": [
    "From the above assumption  we can conclude that:\n",
    "\n",
    "We're failing to Reject H0.\n",
    "\n",
    "The Girls and Boys have scored similar marks"
   ]
  },
  {
   "cell_type": "markdown",
   "id": "d53c58d9",
   "metadata": {},
   "source": [
    "# 3 . Checking whether test preparation helped the students"
   ]
  },
  {
   "cell_type": "markdown",
   "id": "96a03f67",
   "metadata": {},
   "source": [
    "Defining  the Null & Alternate Hypothesis\n",
    "\n",
    "Null Hypothesis, H0: The test preparation didn't help the students.\n",
    "\n",
    "Alternate Hypothesis, Ha: The test preparation has helped the students to increase their score"
   ]
  },
  {
   "cell_type": "code",
   "execution_count": 11,
   "id": "665f31fe",
   "metadata": {},
   "outputs": [],
   "source": [
    "df_prep = df[df[\"Test preparation\"] == \"completed\"][[\"Total Marks\"]]\n",
    "df_not_prep = df[df[\"Test preparation\"] == \"none\"][[\"Total Marks\"]]"
   ]
  },
  {
   "cell_type": "code",
   "execution_count": 17,
   "id": "aaaee696",
   "metadata": {},
   "outputs": [
    {
     "name": "stdout",
     "output_type": "stream",
     "text": [
      "The calulated T score & p-value are : \n",
      "  \n",
      "t-score = 3.614 , \n",
      "p-value = 0.001 \n",
      "\n",
      "Rejecting the H0\n"
     ]
    }
   ],
   "source": [
    "t_score, p_val = ttest_ind(df_prep,df_not_prep, alternative=\"greater\")\n",
    "print(\"The calulated T score & p-value are : \\n  \\nt-score = %0.3f , \\np-value = %0.3f \\n\" % (t_score, p_val))\n",
    "\n",
    "alpha = 0.05 # The degree of Freedom is n-1, i.e. 28-1 = 27\n",
    "\n",
    "if p_val < alpha:\n",
    "    print(\"Rejecting the H0\")\n",
    "elif p_val > alpha:\n",
    "    print(\"Failing to Reject the H0\")"
   ]
  },
  {
   "cell_type": "markdown",
   "id": "83d0da93",
   "metadata": {},
   "source": [
    "Based on the above inferences  we can say that:\n",
    "\n",
    "From this study, we'll reject the H0. i.e. rejecting  the claim that the test preparation didn't helped the students.\n",
    "\n",
    "The test preparation has helped the students increase their score."
   ]
  },
  {
   "cell_type": "code",
   "execution_count": null,
   "id": "8073b5fa",
   "metadata": {},
   "outputs": [],
   "source": []
  }
 ],
 "metadata": {
  "kernelspec": {
   "display_name": "Python 3 (ipykernel)",
   "language": "python",
   "name": "python3"
  },
  "language_info": {
   "codemirror_mode": {
    "name": "ipython",
    "version": 3
   },
   "file_extension": ".py",
   "mimetype": "text/x-python",
   "name": "python",
   "nbconvert_exporter": "python",
   "pygments_lexer": "ipython3",
   "version": "3.9.12"
  }
 },
 "nbformat": 4,
 "nbformat_minor": 5
}
